{
  "nbformat": 4,
  "nbformat_minor": 0,
  "metadata": {
    "colab": {
      "provenance": [],
      "authorship_tag": "ABX9TyM6kSzwAgrR7vnsYqw/sfMK",
      "include_colab_link": true
    },
    "kernelspec": {
      "name": "python3",
      "display_name": "Python 3"
    },
    "language_info": {
      "name": "python"
    }
  },
  "cells": [
    {
      "cell_type": "markdown",
      "metadata": {
        "id": "view-in-github",
        "colab_type": "text"
      },
      "source": [
        "<a href=\"https://colab.research.google.com/github/Abena-3565/csec-ds-bootcamp-task/blob/main/Untitled2.ipynb\" target=\"_parent\"><img src=\"https://colab.research.google.com/assets/colab-badge.svg\" alt=\"Open In Colab\"/></a>"
      ]
    },
    {
      "cell_type": "markdown",
      "source": [
        "***Answer***"
      ],
      "metadata": {
        "id": "vhvPRzg7PWGL"
      }
    },
    {
      "cell_type": "markdown",
      "source": [
        "  **Section 1 - Python + Data Familiarity**"
      ],
      "metadata": {
        "id": "-O54haZ7PGvt"
      }
    },
    {
      "cell_type": "markdown",
      "source": [
        "1 **List**: A list is a collection of elements that can be of any data type. It is\n",
        "  ordered and mutable. *italicized text*"
      ],
      "metadata": {
        "id": "D_JTUiG5PKYS"
      }
    },
    {
      "cell_type": "code",
      "source": [
        "#example\n",
        "my_list = [1, 2.4, \"hello\"]"
      ],
      "metadata": {
        "id": "2zC79NtzRffT"
      },
      "execution_count": 8,
      "outputs": []
    },
    {
      "cell_type": "markdown",
      "source": [
        "  **Dictionary:** A dictionary stores data in key-value pairs. It is unordered"
      ],
      "metadata": {
        "id": "kQCNC5oERnnw"
      }
    },
    {
      "cell_type": "code",
      "source": [
        "#example\n",
        "my_dict = {\"name\": \"Abenezer\", \"age\": 21}"
      ],
      "metadata": {
        "id": "FROcatoQSTaF"
      },
      "execution_count": 6,
      "outputs": []
    },
    {
      "cell_type": "markdown",
      "source": [
        "**NumPy Array**: A NumPy array is a fixed-size container of elements, typically numerical, provided by the NumPy library. It's more efficient for numerical operations than lists."
      ],
      "metadata": {
        "id": "kljRTveXScVL"
      }
    },
    {
      "cell_type": "code",
      "source": [
        "#example\n",
        "import numpy as np\n",
        "my_array = np.array([10, 9, 3])"
      ],
      "metadata": {
        "id": "HvMDQhuKSgOh"
      },
      "execution_count": 5,
      "outputs": []
    },
    {
      "cell_type": "markdown",
      "source": [
        "2. Function to Return Square of Even Numbers"
      ],
      "metadata": {
        "id": "7OPO34thSo6I"
      }
    },
    {
      "cell_type": "code",
      "source": [
        "def square_for_even_num(num):\n",
        "  return [x**2 for x in num if x % 2 == 0]\n",
        "\n",
        "nums = [10, 15, 20, 25, 30]\n",
        "print(square_for_even_num(nums))"
      ],
      "metadata": {
        "colab": {
          "base_uri": "https://localhost:8080/"
        },
        "id": "juggANIHS4cw",
        "outputId": "42a42b7a-94e9-4509-cc3b-c24ea2aecaa1"
      },
      "execution_count": 3,
      "outputs": [
        {
          "output_type": "stream",
          "name": "stdout",
          "text": [
            "[100, 400, 900]\n"
          ]
        }
      ]
    },
    {
      "cell_type": "markdown",
      "source": [
        "3 **Output is** : [1, 2, 3, 4]\n",
        "\n",
        "**explanation:** When I assign `y = x`, I'm not creating a new list — I'm making `y` point to the same list object as `x`.  \n",
        "So when I do `y.append(4)`, I'm modifying that shared list in place.  \n",
        "Since `x` and `y` both point to the same list, printing `x` also shows the updated list with the new element.\n"
      ],
      "metadata": {
        "id": "c8iGAUZ8URR3"
      }
    },
    {
      "cell_type": "markdown",
      "source": [
        "4 **.shape** : Tells about row and column number in the DataFrame as a tuple `(rows, columns)`.\n",
        "\n",
        "`**.describe()** Gives summary statistics for numeric columns, including count, mean, standard deviation,and so on.\n"
      ],
      "metadata": {
        "id": "XkbiJk0kWeiV"
      }
    },
    {
      "cell_type": "code",
      "source": [
        "import pandas as pd\n",
        "data = {\n",
        "    'Age': [21, 25, 22, 23, 24],\n",
        "    'Score': [88, 76, 92, 85, 90]\n",
        "}\n",
        "\n",
        "dataset = pd.DataFrame(data)\n",
        "print( dataset.shape)\n",
        "print(dataset.describe())\n"
      ],
      "metadata": {
        "colab": {
          "base_uri": "https://localhost:8080/"
        },
        "id": "ts7YPt2XXYDc",
        "outputId": "5860db64-54a3-477c-b59d-69391cdef594"
      },
      "execution_count": 10,
      "outputs": [
        {
          "output_type": "stream",
          "name": "stdout",
          "text": [
            "(5, 2)\n",
            "             Age     Score\n",
            "count   5.000000   5.00000\n",
            "mean   23.000000  86.20000\n",
            "std     1.581139   6.26099\n",
            "min    21.000000  76.00000\n",
            "25%    22.000000  85.00000\n",
            "50%    23.000000  88.00000\n",
            "75%    24.000000  90.00000\n",
            "max    25.000000  92.00000\n"
          ]
        }
      ]
    },
    {
      "cell_type": "code",
      "source": [
        "5  #i Upload CSV and upload into sameple_data\n",
        "import pandas as pd\n",
        "dataset = pd.read_csv(\"/content/airtravel.csv\")\n",
        "dataset.head()\n",
        "#dataset.shape\n",
        "#dataset.isnull().sum()\n"
      ],
      "metadata": {
        "colab": {
          "base_uri": "https://localhost:8080/"
        },
        "id": "SdWnc67wYE21",
        "outputId": "289ff744-df44-4ea5-fb84-3d4699fa8f72"
      },
      "execution_count": 18,
      "outputs": [
        {
          "output_type": "stream",
          "name": "stdout",
          "text": [
            "Index(['Month', ' \"1958\"', ' \"1959\"', ' \"1960\"'], dtype='object')\n"
          ]
        }
      ]
    },
    {
      "cell_type": "markdown",
      "source": [
        "- The dataset records monthly airline passenger numbers for the years 1958, 1959, and 1960\n",
        "- The values appear to be increasing over the years, indicating a **positive trend in air travel**.\n",
        "- The data is clean and well-structured, with no missing values in the displayed rows."
      ],
      "metadata": {
        "id": "YrAUq2FeZBZa"
      }
    },
    {
      "cell_type": "markdown",
      "source": [
        "**Section 2 - Data Manipulation + Exploration**"
      ],
      "metadata": {
        "id": "C6O0gjBSdi7e"
      }
    },
    {
      "cell_type": "code",
      "source": [
        "6\n",
        "import pandas as pd\n",
        "\n",
        "# Load dataset\n",
        "dataset = pd.read_csv(\"/content/airtravel.csv\")\n",
        "\n",
        "# Remove the extra quotation marks from the column names\n",
        "dataset.columns = dataset.columns.str.replace('\"', '').str.strip()\n",
        "\n",
        "dataset[\"1958\"] = dataset[\"1958\"].astype(int)\n",
        "dataset[\"1959\"] = dataset[\"1959\"].astype(int)\n",
        "dataset[\"1960\"] = dataset[\"1960\"].astype(int)\n",
        "\n",
        "dataset[\"Total\"] = dataset[[\"1958\", \"1959\", \"1960\"]].sum(axis=1)\n",
        "\n",
        "h_t_m = dataset.loc[dataset[\"Total\"].idxmax(), \"Month\"]\n",
        "\n",
        "l_1958_m = dataset.loc[dataset[\"1958\"].idxmin(), \"Month\"]\n",
        "print(\"Month with highest total passengers:\", h_t_m)\n",
        "print(\"Month with lowest passengers in 1958:\", l_1958_m)\n"
      ],
      "metadata": {
        "colab": {
          "base_uri": "https://localhost:8080/"
        },
        "id": "LFj9wY-LaTa5",
        "outputId": "84421236-4d33-485d-ae2b-c82535b5d3a6"
      },
      "execution_count": 20,
      "outputs": [
        {
          "output_type": "stream",
          "name": "stdout",
          "text": [
            "Month with highest total passengers: AUG\n",
            "Month with lowest passengers in 1958: NOV\n"
          ]
        }
      ]
    },
    {
      "cell_type": "code",
      "source": [
        "7\n",
        "import pandas as pd\n",
        "\n",
        "# Create dummy data with departments and salaries\n",
        "dummy_data = {\n",
        "    \"Department\": [\"CSE\", \"SE\", \"ECE\", \"PCE\", \"CSE\", \"SE\", \"ECE\", \"PCE\", \"CSE\", \"SE\"],\n",
        "    \"Employee\": [\"A\", \"B\", \"C\", \"D\", \"E\", \"F\", \"G\", \"H\", \"I\", \"J\"],\n",
        "    \"Salary\": [5000, 4500, 4000, 3800, 5200, 4600, 4100, 3900, 5300, 4700]\n",
        "}\n",
        "\n",
        "# Create a DataFrame\n",
        "dataset = pd.DataFrame(dummy_data)\n",
        "\n",
        "# Group by Department and calculate the mean salary\n",
        "grouped = dataset.groupby(\"Department\")[\"Salary\"].mean()\n",
        "\n",
        "print(grouped)\n"
      ],
      "metadata": {
        "colab": {
          "base_uri": "https://localhost:8080/"
        },
        "id": "CMvAqP3MbkAh",
        "outputId": "c64b393a-2dc0-409b-dd14-be4d6842487d"
      },
      "execution_count": 21,
      "outputs": [
        {
          "output_type": "stream",
          "name": "stdout",
          "text": [
            "Department\n",
            "CSE    5166.666667\n",
            "ECE    4050.000000\n",
            "PCE    3850.000000\n",
            "SE     4600.000000\n",
            "Name: Salary, dtype: float64\n"
          ]
        }
      ]
    },
    {
      "cell_type": "code",
      "source": [
        "8\n",
        "import seaborn as sns\n",
        "dataset = sns.load_dataset(\"titanic\")\n",
        "missing = dataset.isnull().sum()\n",
        "print(missing)\n"
      ],
      "metadata": {
        "colab": {
          "base_uri": "https://localhost:8080/"
        },
        "id": "qJUqoUyfcKJM",
        "outputId": "69b0e1e9-5987-4f30-cd8f-86366c0d445f"
      },
      "execution_count": 22,
      "outputs": [
        {
          "output_type": "stream",
          "name": "stdout",
          "text": [
            "survived         0\n",
            "pclass           0\n",
            "sex              0\n",
            "age            177\n",
            "sibsp            0\n",
            "parch            0\n",
            "fare             0\n",
            "embarked         2\n",
            "class            0\n",
            "who              0\n",
            "adult_male       0\n",
            "deck           688\n",
            "embark_town      2\n",
            "alive            0\n",
            "alone            0\n",
            "dtype: int64\n"
          ]
        }
      ]
    },
    {
      "cell_type": "code",
      "source": [
        "import matplotlib.pyplot as mpl\n",
        "\n",
        "mpl.hist(dataset[\"age\"].dropna(), bins=30, edgecolor='black')\n",
        "mpl.title(\"Age Distribution\")\n",
        "mpl.xlabel(\"Age\")\n",
        "mpl.ylabel(\"Frequency\")\n",
        "mpl.grid(True)\n",
        "mpl.show()\n"
      ],
      "metadata": {
        "colab": {
          "base_uri": "https://localhost:8080/",
          "height": 472
        },
        "id": "SaVKGT0EcaSU",
        "outputId": "7f5698d3-cd04-4d9c-eb11-b37e19ca69f7"
      },
      "execution_count": 25,
      "outputs": [
        {
          "output_type": "display_data",
          "data": {
            "text/plain": [
              "<Figure size 640x480 with 1 Axes>"
            ],
            "image/png": "[encoded data removed]"
          },
          "metadata": {}
        }
      ]
    },
    {
      "cell_type": "markdown",
      "source": [
        "**What shape do you see?**\n",
        "The histogram shows a right-skewed (positively skewed) distribution.\n",
        "This means most people on the Titanic were younger, and fewer passengers were older.\n",
        "\n",
        "**What might be the reason for the skew?**\n",
        "There are a few possible reasons:\n",
        "\n",
        "Many children and young adults were on board (families traveling, crew, etc.).\n",
        "\n",
        "Fewer elderly people traveled, possibly due to the long and demanding nature of sea travel in that era."
      ],
      "metadata": {
        "id": "RiWZR6nSdKFY"
      }
    },
    {
      "cell_type": "markdown",
      "source": [
        "**Section 3 - Reasoning + Light Analysis**"
      ],
      "metadata": {
        "id": "SAPyMY7_dyM2"
      }
    },
    {
      "cell_type": "markdown",
      "source": [
        "10  \n",
        "A **high standard deviation** means that the values in the column are **spread out** and vary a lot from the mean.\n",
        "\n",
        "A **low standard deviation means** the values are **closer to the mean** and there’s less variation."
      ],
      "metadata": {
        "id": "yFv1lPVvd_ai"
      }
    },
    {
      "cell_type": "code",
      "source": [
        "import pandas as pd\n",
        "low_std = [49, 50, 51, 50, 50]\n",
        "high_std = [10, 20, 50, 80, 100]\n",
        "df = pd.DataFrame({\n",
        "    \"Low_STD\": low_std,\n",
        "    \"High_STD\": high_std\n",
        "})\n",
        "print(\"Standard Deviation Comparison:\")\n",
        "print(df.std())\n"
      ],
      "metadata": {
        "colab": {
          "base_uri": "https://localhost:8080/"
        },
        "id": "sFU8g-gReXnv",
        "outputId": "a19cd44a-996f-411d-b3ab-3149ab8a8006"
      },
      "execution_count": 26,
      "outputs": [
        {
          "output_type": "stream",
          "name": "stdout",
          "text": [
            "Standard Deviation Comparison:\n",
            "Low_STD      0.707107\n",
            "High_STD    38.340579\n",
            "dtype: float64\n"
          ]
        }
      ]
    },
    {
      "cell_type": "markdown",
      "source": [
        "11  \n",
        "1 **Medical Diagnosis Systems:**\n",
        "\n",
        "Missing patient data like blood pressure or heart rate can lead to incorrect diagnoses or treatment decisions.\n",
        "\n",
        "2 **Loan Approval in Banks:**\n",
        "\n",
        "If income or credit score data is missing, the model might reject good applicants or approve risky ones.\n",
        "\n"
      ],
      "metadata": {
        "id": "nehvUVC8eqOI"
      }
    }
  ]
}